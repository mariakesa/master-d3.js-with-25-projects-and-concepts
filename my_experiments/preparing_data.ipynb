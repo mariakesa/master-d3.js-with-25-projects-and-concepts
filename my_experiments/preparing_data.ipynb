{
 "cells": [
  {
   "cell_type": "code",
   "execution_count": 1,
   "metadata": {},
   "outputs": [],
   "source": [
    "import pickle"
   ]
  },
  {
   "cell_type": "code",
   "execution_count": 9,
   "metadata": {},
   "outputs": [],
   "source": [
    "dat=pickle.load(open('/home/maria/Documents/HuggingMouseData/TransformerEmbeddings/google_vit-base-patch16-224-in21k_embeddings.pkl','rb'))"
   ]
  },
  {
   "cell_type": "code",
   "execution_count": 4,
   "metadata": {},
   "outputs": [
    {
     "data": {
      "text/plain": [
       "array([[ 0.37391564, -0.33684877, -0.28980067, ...,  0.19802104,\n",
       "         0.65232992, -0.47631508],\n",
       "       [-0.07348289, -0.43869942, -0.31751814, ...,  0.2681821 ,\n",
       "         0.52752769, -0.46549118],\n",
       "       [ 0.19298853, -0.52970165, -0.09669732, ...,  0.41785452,\n",
       "         0.49417192,  0.05914266],\n",
       "       ...,\n",
       "       [ 0.2929363 , -0.42202717, -0.55893046, ..., -0.34999844,\n",
       "         0.7555632 , -0.13853055],\n",
       "       [ 0.3381981 , -0.18145722, -0.51408815, ...,  0.57060182,\n",
       "         0.64881676, -0.64137161],\n",
       "       [ 0.57373053, -0.16022018, -0.41106781, ...,  0.27693766,\n",
       "         0.44781992, -0.20936039]])"
      ]
     },
     "execution_count": 4,
     "metadata": {},
     "output_type": "execute_result"
    }
   ],
   "source": [
    "    dat['natural_scenes']"
   ]
  },
  {
   "cell_type": "code",
   "execution_count": 12,
   "metadata": {},
   "outputs": [
    {
     "name": "stdout",
     "output_type": "stream",
     "text": [
      "[599, 676, 512, 759, 739, 58, 342, 430, 49, 80, 404, 558, 50, 372, 89, 197, 507, 557, 643, 727]\n"
     ]
    }
   ],
   "source": [
    "import numpy as np\n",
    "d=dat['natural_scenes']\n",
    "import random\n",
    "r=random.sample(range(1, 768), 20)\n",
    "print(r)\n",
    "np.save('dat.npy',d[:,r])"
   ]
  },
  {
   "cell_type": "code",
   "execution_count": 13,
   "metadata": {},
   "outputs": [
    {
     "ename": "AttributeError",
     "evalue": "'dict' object has no attribute 'shape'",
     "output_type": "error",
     "traceback": [
      "\u001b[0;31m---------------------------------------------------------------------------\u001b[0m",
      "\u001b[0;31mAttributeError\u001b[0m                            Traceback (most recent call last)",
      "Cell \u001b[0;32mIn[13], line 1\u001b[0m\n\u001b[0;32m----> 1\u001b[0m \u001b[38;5;28mprint\u001b[39m(\u001b[43mdat\u001b[49m\u001b[38;5;241;43m.\u001b[39;49m\u001b[43mshape\u001b[49m)\n",
      "\u001b[0;31mAttributeError\u001b[0m: 'dict' object has no attribute 'shape'"
     ]
    }
   ],
   "source": [
    "print(.shape)"
   ]
  }
 ],
 "metadata": {
  "kernelspec": {
   "display_name": ".venv",
   "language": "python",
   "name": "python3"
  },
  "language_info": {
   "codemirror_mode": {
    "name": "ipython",
    "version": 3
   },
   "file_extension": ".py",
   "mimetype": "text/x-python",
   "name": "python",
   "nbconvert_exporter": "python",
   "pygments_lexer": "ipython3",
   "version": "3.12.3"
  }
 },
 "nbformat": 4,
 "nbformat_minor": 2
}
